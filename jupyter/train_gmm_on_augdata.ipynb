{
 "cells": [
  {
   "cell_type": "code",
   "execution_count": 1,
   "metadata": {
    "collapsed": false
   },
   "outputs": [
    {
     "name": "stdout",
     "output_type": "stream",
     "text": [
      "/home/hangyin/hydro_workspace/sandbox/gmr\n"
     ]
    }
   ],
   "source": [
    "cd .."
   ]
  },
  {
   "cell_type": "code",
   "execution_count": 13,
   "metadata": {
    "collapsed": false
   },
   "outputs": [],
   "source": [
    "import numpy as np\n",
    "import gmr.gmm as gmm\n",
    "import jupyter.dataset as ds\n",
    "import jupyter.utils as utils"
   ]
  },
  {
   "cell_type": "markdown",
   "metadata": {},
   "source": [
    "Load dataset for image and joint trajectory function approximator data\n",
    "------------"
   ]
  },
  {
   "cell_type": "code",
   "execution_count": 11,
   "metadata": {
    "collapsed": false
   },
   "outputs": [
    {
     "name": "stdout",
     "output_type": "stream",
     "text": [
      "Loading image data...\n",
      "Loading joint motion data...\n"
     ]
    }
   ],
   "source": [
    "print 'Loading image data...'\n",
    "img_data = utils.extract_images(fname='bin/img_data_extend.pkl', only_digits=False)\n",
    "print 'Loading joint motion data...'\n",
    "fa_data, fa_mean, fa_std = utils.extract_jnt_fa_parms(fname='bin/jnt_ik_fa_data_extend.pkl', only_digits=False)\n",
    "fa_data_normed = (fa_data - fa_mean) / fa_std"
   ]
  },
  {
   "cell_type": "code",
   "execution_count": 15,
   "metadata": {
    "collapsed": false
   },
   "outputs": [
    {
     "name": "stdout",
     "output_type": "stream",
     "text": [
      "Constructing dataset...\n"
     ]
    }
   ],
   "source": [
    "print 'Constructing dataset...'\n",
    "#put them together\n",
    "aug_data = np.concatenate((img_data, fa_data_normed), axis=1)\n",
    "\n",
    "data_sets = ds.construct_datasets(aug_data, validation_ratio=.1, test_ratio=.1)"
   ]
  },
  {
   "cell_type": "markdown",
   "metadata": {},
   "source": [
    "Train GMM model with different number of components and covairance types\n",
    "------"
   ]
  },
  {
   "cell_type": "code",
   "execution_count": null,
   "metadata": {
    "collapsed": true
   },
   "outputs": [],
   "source": [
    "random_state = 0\n",
    "covariance_types = ['spherical', 'diag', 'tied', 'full']\n",
    "n_comps = [2]\n",
    "\n",
    "gmm_mdl = gmm.GMM(n_components=n_comps[0], covariance_type=covariance_types[1], random_state=random_state, n_iter=10, n_init=1)\n",
    "bic_score = gmm.fit(data_sets.train._data)"
   ]
  }
 ],
 "metadata": {
  "kernelspec": {
   "display_name": "Python 2",
   "language": "python",
   "name": "python2"
  },
  "language_info": {
   "codemirror_mode": {
    "name": "ipython",
    "version": 2
   },
   "file_extension": ".py",
   "mimetype": "text/x-python",
   "name": "python",
   "nbconvert_exporter": "python",
   "pygments_lexer": "ipython2",
   "version": "2.7.6"
  }
 },
 "nbformat": 4,
 "nbformat_minor": 0
}
